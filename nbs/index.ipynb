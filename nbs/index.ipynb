{
 "cells": [
  {
   "cell_type": "code",
   "execution_count": null,
   "metadata": {},
   "outputs": [],
   "source": [
    "#| hide\n",
    "from reinautils.core import *\n",
    "from nbdev.showdoc import *"
   ]
  },
  {
   "cell_type": "markdown",
   "metadata": {},
   "source": [
    "# reinautils\n",
    "\n",
    "> General utilities"
   ]
  },
  {
   "cell_type": "markdown",
   "metadata": {},
   "source": [
    "## The Utilities included are:"
   ]
  },
  {
   "cell_type": "code",
   "execution_count": null,
   "metadata": {},
   "outputs": [
    {
     "data": {
      "text/markdown": [
       "---\n",
       "\n",
       "[source](https://github.com/yuval6957/reinautils/blob/main/reinautils/core.py#LNone){target=\"_blank\" style=\"float:right; font-size:smaller\"}\n",
       "\n",
       "### Parameters\n",
       "\n",
       ">      Parameters (**kargs)\n",
       "\n",
       "A splecial class whos atributes can be referenced as attributs or as dictionaty keys"
      ],
      "text/plain": [
       "---\n",
       "\n",
       "[source](https://github.com/yuval6957/reinautils/blob/main/reinautils/core.py#LNone){target=\"_blank\" style=\"float:right; font-size:smaller\"}\n",
       "\n",
       "### Parameters\n",
       "\n",
       ">      Parameters (**kargs)\n",
       "\n",
       "A splecial class whos atributes can be referenced as attributs or as dictionaty keys"
      ]
     },
     "execution_count": null,
     "metadata": {},
     "output_type": "execute_result"
    }
   ],
   "source": [
    "show_doc(Parameters)"
   ]
  },
  {
   "cell_type": "markdown",
   "metadata": {},
   "source": [
    "## Install"
   ]
  },
  {
   "cell_type": "markdown",
   "metadata": {},
   "source": [
    "```sh\n",
    "pip install reinautils\n",
    "```"
   ]
  },
  {
   "cell_type": "markdown",
   "metadata": {},
   "source": [
    "## How to use"
   ]
  },
  {
   "cell_type": "markdown",
   "metadata": {},
   "source": [
    "### Parameters"
   ]
  },
  {
   "cell_type": "markdown",
   "metadata": {},
   "source": [
    "You can create a Parameters class from dict"
   ]
  },
  {
   "cell_type": "code",
   "execution_count": null,
   "metadata": {},
   "outputs": [
    {
     "name": "stdout",
     "output_type": "stream",
     "text": [
      "1\n"
     ]
    }
   ],
   "source": [
    "params=Parameters(first=1,second='A')\n",
    "print(params.first)"
   ]
  },
  {
   "cell_type": "markdown",
   "metadata": {},
   "source": [
    "You can also creat a Parameters class and populate it from a json file"
   ]
  },
  {
   "cell_type": "code",
   "execution_count": null,
   "metadata": {},
   "outputs": [
    {
     "name": "stdout",
     "output_type": "stream",
     "text": [
      "Parameters:\n",
      "   path : Parameters:\n",
      "      data : /workspace/hd/\n",
      "      tmp : /workspace/hd/tmp/\n",
      "      features : /workspace/nvme/features/\n",
      "      train : /workspace/nvme/train/\n",
      "      models : /workspace/hd/models/\n",
      "      output : /workspace/hd/outputs/\n",
      "      test : /workspace/nvme/test/\n",
      "   platform : myserver\n"
     ]
    }
   ],
   "source": [
    "params2=Parameters().from_json('config_demo.json')\n",
    "print(params2)"
   ]
  }
 ],
 "metadata": {
  "kernelspec": {
   "display_name": "python3",
   "language": "python",
   "name": "python3"
  }
 },
 "nbformat": 4,
 "nbformat_minor": 4
}
