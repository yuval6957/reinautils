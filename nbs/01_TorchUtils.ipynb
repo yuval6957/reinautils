{
 "cells": [
  {
   "cell_type": "markdown",
   "id": "50eac04e-7f0b-43f8-a14c-af657be60257",
   "metadata": {},
   "source": [
    "# TorchUtils\n",
    "> Some handy utilities for pytorch "
   ]
  },
  {
   "cell_type": "code",
   "execution_count": null,
   "id": "9797646f-cd70-425d-a7e8-7aaf7202d746",
   "metadata": {},
   "outputs": [],
   "source": [
    "#| default_exp torchutils"
   ]
  },
  {
   "cell_type": "code",
   "execution_count": null,
   "id": "385468af-335c-49e9-b40a-a3352830b99d",
   "metadata": {},
   "outputs": [],
   "source": [
    "#| hide\n",
    "from nbdev.showdoc import *"
   ]
  },
  {
   "cell_type": "code",
   "execution_count": null,
   "id": "bab60f9b-3906-4e8d-aa23-81515b931c3b",
   "metadata": {},
   "outputs": [],
   "source": [
    "#| export\n",
    "from torch.utils.data import Dataset\n",
    "import torch"
   ]
  },
  {
   "cell_type": "code",
   "execution_count": null,
   "id": "ea82a1ab-93c4-436e-935b-cf521cbe6753",
   "metadata": {},
   "outputs": [],
   "source": [
    "#| export\n",
    "def device_by_name(name: str) -> torch.device:\n",
    "    ''' Return reference to cuda device by using Part of it's name\n",
    "\n",
    "        Args:\n",
    "            name: part of the cuda device name (shuuld be distinct)\n",
    "\n",
    "        Return:\n",
    "            Reference to cuda device\n",
    "\n",
    "        Updated: Yuval 12/10/19\n",
    "    '''\n",
    "    assert torch.cuda.is_available(), \"No cuda device\"\n",
    "    device = None\n",
    "    for i in range(torch.cuda.device_count()):\n",
    "        dv = torch.device(\"cuda:{}\".format(i))\n",
    "        if name in torch.cuda.get_device_name(dv):\n",
    "            device = dv\n",
    "            break\n",
    "    assert device, \"device {} not found\".format(name)\n",
    "    return device"
   ]
  },
  {
   "cell_type": "code",
   "execution_count": null,
   "id": "21d347f0-b30a-4bd3-affa-04724a11f356",
   "metadata": {},
   "outputs": [
    {
     "data": {
      "text/markdown": [
       "---\n",
       "\n",
       "### device_by_name\n",
       "\n",
       ">      device_by_name (name:str)\n",
       "\n",
       "Return reference to cuda device by using Part of it's name\n",
       "\n",
       "Args:\n",
       "    name: part of the cuda device name (shuuld be distinct)\n",
       "\n",
       "Return:\n",
       "    Reference to cuda device\n",
       "\n",
       "Updated: Yuval 12/10/19"
      ],
      "text/plain": [
       "---\n",
       "\n",
       "### device_by_name\n",
       "\n",
       ">      device_by_name (name:str)\n",
       "\n",
       "Return reference to cuda device by using Part of it's name\n",
       "\n",
       "Args:\n",
       "    name: part of the cuda device name (shuuld be distinct)\n",
       "\n",
       "Return:\n",
       "    Reference to cuda device\n",
       "\n",
       "Updated: Yuval 12/10/19"
      ]
     },
     "execution_count": null,
     "metadata": {},
     "output_type": "execute_result"
    }
   ],
   "source": [
    "show_doc(device_by_name)"
   ]
  },
  {
   "cell_type": "markdown",
   "id": "8ec4f31c-94d6-4e65-9301-5449aca111e1",
   "metadata": {},
   "source": [
    "#### How to use"
   ]
  },
  {
   "cell_type": "code",
   "execution_count": null,
   "id": "c43c86cf-b03b-4ceb-b377-d36b97b98ec1",
   "metadata": {},
   "outputs": [
    {
     "data": {
      "text/plain": [
       "device(type='cuda', index=0)"
      ]
     },
     "execution_count": null,
     "metadata": {},
     "output_type": "execute_result"
    }
   ],
   "source": [
    "device_by_name(\"Tesla\")"
   ]
  },
  {
   "cell_type": "markdown",
   "id": "a70a4010-30e4-494e-9b9a-b0f7bb57d9e4",
   "metadata": {},
   "source": [
    "If the device doesn't exist we should get an error "
   ]
  },
  {
   "cell_type": "code",
   "execution_count": null,
   "id": "58105c95-4091-4bf4-810c-d4126be2d1ec",
   "metadata": {},
   "outputs": [],
   "source": [
    "error = False\n",
    "try:\n",
    "    device_by_name(\"fff\")\n",
    "except AssertionError:\n",
    "    error = True\n",
    "assert error"
   ]
  },
  {
   "cell_type": "code",
   "execution_count": null,
   "id": "73f567d3-6f13-4b48-a1cb-28203e23966c",
   "metadata": {},
   "outputs": [],
   "source": []
  },
  {
   "cell_type": "code",
   "execution_count": null,
   "id": "592788eb-3d4c-430f-ae90-b090f2dcf369",
   "metadata": {},
   "outputs": [],
   "source": [
    "#| hide\n",
    "import nbdev; nbdev.nbdev_export()"
   ]
  },
  {
   "cell_type": "code",
   "execution_count": null,
   "id": "6e24f25d-4c05-4819-869e-37eea91236dd",
   "metadata": {},
   "outputs": [],
   "source": []
  }
 ],
 "metadata": {
  "kernelspec": {
   "display_name": "python3",
   "language": "python",
   "name": "python3"
  }
 },
 "nbformat": 4,
 "nbformat_minor": 5
}
