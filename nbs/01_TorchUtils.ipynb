{
 "cells": [
  {
   "cell_type": "markdown",
   "id": "50eac04e-7f0b-43f8-a14c-af657be60257",
   "metadata": {},
   "source": [
    "# TorchUtils\n",
    "> Some handy utilities for pytorch "
   ]
  },
  {
   "cell_type": "code",
   "execution_count": null,
   "id": "9797646f-cd70-425d-a7e8-7aaf7202d746",
   "metadata": {},
   "outputs": [],
   "source": [
    "#| default_exp torchutils"
   ]
  },
  {
   "cell_type": "code",
   "execution_count": null,
   "id": "385468af-335c-49e9-b40a-a3352830b99d",
   "metadata": {},
   "outputs": [],
   "source": [
    "#| hide\n",
    "from nbdev.showdoc import *"
   ]
  },
  {
   "cell_type": "code",
   "execution_count": null,
   "id": "bab60f9b-3906-4e8d-aa23-81515b931c3b",
   "metadata": {},
   "outputs": [],
   "source": [
    "#| export\n",
    "from torch.utils.data import Dataset\n",
    "import torch"
   ]
  },
  {
   "cell_type": "code",
   "execution_count": null,
   "id": "ea82a1ab-93c4-436e-935b-cf521cbe6753",
   "metadata": {},
   "outputs": [],
   "source": [
    "#| export\n",
    "def device_by_name(name: str) -> torch.device:\n",
    "    ''' Return reference to cuda device by using Part of it's name\n",
    "\n",
    "        Args:\n",
    "            name: part of the cuda device name (shuuld be distinct)\n",
    "\n",
    "        Return:\n",
    "            Reference to cuda device\n",
    "\n",
    "        Updated: Yuval 12/10/19\n",
    "    '''\n",
    "    assert torch.cuda.is_available(), \"No cuda device\"\n",
    "    device = None\n",
    "    for i in range(torch.cuda.device_count()):\n",
    "        dv = torch.device(\"cuda:{}\".format(i))\n",
    "        if name in torch.cuda.get_device_name(dv):\n",
    "            device = dv\n",
    "            break\n",
    "    assert device, \"device {} not found\".format(name)\n",
    "    return device"
   ]
  },
  {
   "cell_type": "code",
   "execution_count": null,
   "id": "21d347f0-b30a-4bd3-affa-04724a11f356",
   "metadata": {},
   "outputs": [
    {
     "data": {
      "text/markdown": [
       "---\n",
       "\n",
       "[source](https://github.com/yuval6957/reinautils/blob/main/reinautils/torchutils.py#L11){target=\"_blank\" style=\"float:right; font-size:smaller\"}\n",
       "\n",
       "### device_by_name\n",
       "\n",
       ">      device_by_name (name:str)\n",
       "\n",
       "Return reference to cuda device by using Part of it's name\n",
       "\n",
       "Args:\n",
       "    name: part of the cuda device name (shuuld be distinct)\n",
       "\n",
       "Return:\n",
       "    Reference to cuda device\n",
       "\n",
       "Updated: Yuval 12/10/19"
      ],
      "text/plain": [
       "---\n",
       "\n",
       "[source](https://github.com/yuval6957/reinautils/blob/main/reinautils/torchutils.py#L11){target=\"_blank\" style=\"float:right; font-size:smaller\"}\n",
       "\n",
       "### device_by_name\n",
       "\n",
       ">      device_by_name (name:str)\n",
       "\n",
       "Return reference to cuda device by using Part of it's name\n",
       "\n",
       "Args:\n",
       "    name: part of the cuda device name (shuuld be distinct)\n",
       "\n",
       "Return:\n",
       "    Reference to cuda device\n",
       "\n",
       "Updated: Yuval 12/10/19"
      ]
     },
     "execution_count": null,
     "metadata": {},
     "output_type": "execute_result"
    }
   ],
   "source": [
    "show_doc(device_by_name)"
   ]
  },
  {
   "cell_type": "markdown",
   "id": "8ec4f31c-94d6-4e65-9301-5449aca111e1",
   "metadata": {},
   "source": [
    "#### How to use"
   ]
  },
  {
   "cell_type": "code",
   "execution_count": null,
   "id": "c43c86cf-b03b-4ceb-b377-d36b97b98ec1",
   "metadata": {},
   "outputs": [
    {
     "data": {
      "text/plain": [
       "device(type='cuda', index=0)"
      ]
     },
     "execution_count": null,
     "metadata": {},
     "output_type": "execute_result"
    }
   ],
   "source": [
    "#| eval: false\n",
    "device_by_name(\"Tesla\")"
   ]
  },
  {
   "cell_type": "markdown",
   "id": "a70a4010-30e4-494e-9b9a-b0f7bb57d9e4",
   "metadata": {},
   "source": [
    "If the device doesn't exist we should get an error "
   ]
  },
  {
   "cell_type": "code",
   "execution_count": null,
   "id": "58105c95-4091-4bf4-810c-d4126be2d1ec",
   "metadata": {},
   "outputs": [],
   "source": [
    "#|eval: false\n",
    "error = False\n",
    "try:\n",
    "    device_by_name(\"fff\")\n",
    "except AssertionError:\n",
    "    error = True\n",
    "assert error"
   ]
  },
  {
   "cell_type": "code",
   "execution_count": null,
   "id": "73f567d3-6f13-4b48-a1cb-28203e23966c",
   "metadata": {},
   "outputs": [],
   "source": [
    "#| export\n",
    "class DatasetCat(Dataset):\n",
    "    '''\n",
    "    Concatenate datasets for Pytorch dataloader\n",
    "    \n",
    "    The normal pytorch implementation does it only for raws. this is a \"column\" implementation\n",
    "    \n",
    "    Arges:\n",
    "        datasets: list of datasets, of the same length\n",
    "        \n",
    "    Updated: Yuval 12/10/2019\n",
    "    '''\n",
    "\n",
    "    def __init__(self, *datasets):\n",
    "        '''\n",
    "        Args: datasets - an iterable containing the datasets\n",
    "        '''\n",
    "        super(DatasetCat, self).__init__()\n",
    "        self.datasets=datasets\n",
    "        assert len(self.datasets)>0\n",
    "        for dataset in datasets:\n",
    "            assert len(self.datasets[0])==len(dataset),\"Datasets length should be equal\"\n",
    "\n",
    "    def __len__(self):\n",
    "        return len(self.datasets[0])\n",
    "\n",
    "    def __getitem__(self, idx):\n",
    "        outputs = tuple(dataset.__getitem__(idx) for i in self.datasets for dataset in (i if isinstance(i, tuple) else (i,)))\n",
    "        return tuple(output for i in outputs for output in (i if isinstance(i, tuple) else (i,)))\n",
    "    "
   ]
  },
  {
   "cell_type": "code",
   "execution_count": null,
   "id": "67a24b4a-47d0-44a6-a19a-74faf65d5bff",
   "metadata": {},
   "outputs": [
    {
     "data": {
      "text/markdown": [
       "---\n",
       "\n",
       "[source](https://github.com/yuval6957/reinautils/blob/main/reinautils/torchutils.py#L33){target=\"_blank\" style=\"float:right; font-size:smaller\"}\n",
       "\n",
       "### DatasetCat\n",
       "\n",
       ">      DatasetCat (*datasets)\n",
       "\n",
       "Concatenate datasets for Pytorch dataloader\n",
       "\n",
       "The normal pytorch implementation does it only for raws. this is a \"column\" implementation\n",
       "\n",
       "Arges:\n",
       "    datasets: list of datasets, of the same length\n",
       "\n",
       "Updated: Yuval 12/10/2019"
      ],
      "text/plain": [
       "---\n",
       "\n",
       "[source](https://github.com/yuval6957/reinautils/blob/main/reinautils/torchutils.py#L33){target=\"_blank\" style=\"float:right; font-size:smaller\"}\n",
       "\n",
       "### DatasetCat\n",
       "\n",
       ">      DatasetCat (*datasets)\n",
       "\n",
       "Concatenate datasets for Pytorch dataloader\n",
       "\n",
       "The normal pytorch implementation does it only for raws. this is a \"column\" implementation\n",
       "\n",
       "Arges:\n",
       "    datasets: list of datasets, of the same length\n",
       "\n",
       "Updated: Yuval 12/10/2019"
      ]
     },
     "execution_count": null,
     "metadata": {},
     "output_type": "execute_result"
    }
   ],
   "source": [
    "show_doc(DatasetCat)"
   ]
  },
  {
   "cell_type": "markdown",
   "id": "30ac887c-03fc-4f14-9c11-fe46c2c44b1d",
   "metadata": {},
   "source": [
    "### How to use"
   ]
  },
  {
   "cell_type": "markdown",
   "id": "c19cf7b0-e68c-4667-9b2a-4ee34ef9a396",
   "metadata": {},
   "source": [
    "This is one dataset"
   ]
  },
  {
   "cell_type": "code",
   "execution_count": null,
   "id": "811cbd2d-27e8-4ffb-9536-ee0414a1caee",
   "metadata": {},
   "outputs": [
    {
     "name": "stdout",
     "output_type": "stream",
     "text": [
      "5\n",
      "(tensor([1.]), tensor([-1.2270]))\n"
     ]
    }
   ],
   "source": [
    "dataset1=torch.utils.data.TensorDataset(torch.ones(5,1),torch.randn(5,1))\n",
    "print(len(dataset1))\n",
    "print (dataset1.__getitem__(0))"
   ]
  },
  {
   "cell_type": "markdown",
   "id": "35ce77b5-844c-4ce7-aa16-dbbf4f15ea4a",
   "metadata": {},
   "source": [
    "This is the 2nd"
   ]
  },
  {
   "cell_type": "code",
   "execution_count": null,
   "id": "2b56a69d-635a-43a8-be6a-ca9f36c0a9f1",
   "metadata": {},
   "outputs": [
    {
     "name": "stdout",
     "output_type": "stream",
     "text": [
      "5\n",
      "(tensor([0.]), tensor([1.0632]))\n"
     ]
    }
   ],
   "source": [
    "dataset2=torch.utils.data.TensorDataset(torch.zeros(5,1),torch.randn(5,1))\n",
    "print(len(dataset2))\n",
    "print (dataset2.__getitem__(0))"
   ]
  },
  {
   "cell_type": "markdown",
   "id": "8df63799-0420-48a6-aa08-1237520928e3",
   "metadata": {},
   "source": [
    "And we will concat them row wise "
   ]
  },
  {
   "cell_type": "code",
   "execution_count": null,
   "id": "a212f809-e8fd-40f6-917b-02caff0c5bde",
   "metadata": {},
   "outputs": [
    {
     "name": "stdout",
     "output_type": "stream",
     "text": [
      "5\n",
      "(tensor([1.]), tensor([-1.2270]), tensor([0.]), tensor([1.0632]))\n"
     ]
    }
   ],
   "source": [
    "dataset3 = DatasetCat(dataset1,dataset2)\n",
    "print(len(dataset3))\n",
    "print (dataset3.__getitem__(0))\n",
    "assert dataset3.__getitem__(3) == (*dataset1.__getitem__(3),*dataset2.__getitem__(3))\n",
    "assert len(dataset3) == len(dataset1) "
   ]
  },
  {
   "cell_type": "code",
   "execution_count": null,
   "id": "592788eb-3d4c-430f-ae90-b090f2dcf369",
   "metadata": {},
   "outputs": [],
   "source": [
    "#| hide\n",
    "import nbdev; nbdev.nbdev_export()"
   ]
  },
  {
   "cell_type": "code",
   "execution_count": null,
   "id": "6e24f25d-4c05-4819-869e-37eea91236dd",
   "metadata": {},
   "outputs": [],
   "source": []
  }
 ],
 "metadata": {
  "kernelspec": {
   "display_name": "python3",
   "language": "python",
   "name": "python3"
  }
 },
 "nbformat": 4,
 "nbformat_minor": 5
}
