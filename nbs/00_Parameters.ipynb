{
 "cells": [
  {
   "cell_type": "markdown",
   "metadata": {},
   "source": [
    "# Parameters\n",
    "\n",
    "> Define a spctial class with is easy you use for config/parametrs "
   ]
  },
  {
   "cell_type": "code",
   "execution_count": null,
   "metadata": {},
   "outputs": [],
   "source": [
    "#| default_exp parameters"
   ]
  },
  {
   "cell_type": "code",
   "execution_count": null,
   "metadata": {},
   "outputs": [],
   "source": [
    "#| hide\n",
    "from nbdev.showdoc import *"
   ]
  },
  {
   "cell_type": "code",
   "execution_count": null,
   "metadata": {},
   "outputs": [],
   "source": [
    "#| export\n",
    "import json"
   ]
  },
  {
   "cell_type": "code",
   "execution_count": null,
   "metadata": {},
   "outputs": [],
   "source": [
    "#| export\n",
    "class Parameters():\n",
    "    '''A splecial class whos atributes can be referenced as attributs or as dictionaty keys'''\n",
    "\n",
    "    def __init__(self, **kargs):\n",
    "        self.add_attr(**kargs)\n",
    "\n",
    "    def __call__(self, param, value=None):\n",
    "        if value is not None:\n",
    "            setattr(self, param, value)\n",
    "        return self.__getattribute__(param)\n",
    "\n",
    "    def __repr__(self):\n",
    "        str_out = f'{self.__class__}'\n",
    "        for key, value in self.__dict__.items():\n",
    "            str_out += f'\\n   {key} : '+'\\n   '.join([i for i in repr(value).split('\\n')]) if isinstance(value,Parameters) else f'\\n   {key} : {repr(value)}'\n",
    "        return str_out\n",
    "\n",
    "    def __str__(self):\n",
    "        str_out = 'Parameters:'\n",
    "        for key,value in self.__dict__.items():\n",
    "            str_out += f'\\n   {key} : '+'\\n   '.join([i for i in str(value).split('\\n')]) if isinstance(value,Parameters) else f'\\n   {key} : {value}'\n",
    "        return str_out\n",
    "\n",
    "    def add_attr(self, **kargs):\n",
    "        '''Add attributes to the Parameters class, this will be done recursivly'''\n",
    "        for key, value in kargs.items():\n",
    "            if isinstance(value, dict):\n",
    "                setattr(self, key, Parameters(**value))\n",
    "            else:\n",
    "                setattr(self, key, value)\n",
    "\n",
    "    def to_dict(self):\n",
    "        '''Convert the parameters to dictionary recorsively'''\n",
    "        return {key:value if not isinstance(value,Parameters) else value.to_dict() for key,value in self.__dict__.items()}\n",
    "\n",
    "    def __len__(self) -> int:\n",
    "        return len(self.__dict__ )\n",
    "\n",
    "    def __getitem__(self, key):\n",
    "        return self.__getattribute__(key)\n",
    "\n",
    "    def __setitem__(self, key, value):\n",
    "        self.add_attr(**{key: value})\n",
    "\n",
    "    def __delitem__(self, key):\n",
    "        delattr(self, key)\n",
    "\n",
    "    def from_json(self, json_file_name:str):\n",
    "        '''Read json file and add to parameters'''\n",
    "        with open(json_file_name) as json_data_file:\n",
    "            data = json.load(json_data_file)\n",
    "        self.add_attr(**data)\n",
    "        return self\n"
   ]
  },
  {
   "cell_type": "code",
   "execution_count": null,
   "metadata": {},
   "outputs": [
    {
     "data": {
      "text/markdown": [
       "---\n",
       "\n",
       "[source](https://github.com/yuval6957/reinautils/blob/main/reinautils/parameters.py#L10){target=\"_blank\" style=\"float:right; font-size:smaller\"}\n",
       "\n",
       "### Parameters\n",
       "\n",
       ">      Parameters (**kargs)\n",
       "\n",
       "A splecial class whos atributes can be referenced as attributs or as dictionaty keys"
      ],
      "text/plain": [
       "---\n",
       "\n",
       "[source](https://github.com/yuval6957/reinautils/blob/main/reinautils/parameters.py#L10){target=\"_blank\" style=\"float:right; font-size:smaller\"}\n",
       "\n",
       "### Parameters\n",
       "\n",
       ">      Parameters (**kargs)\n",
       "\n",
       "A splecial class whos atributes can be referenced as attributs or as dictionaty keys"
      ]
     },
     "execution_count": null,
     "metadata": {},
     "output_type": "execute_result"
    }
   ],
   "source": [
    "show_doc(Parameters)"
   ]
  },
  {
   "cell_type": "code",
   "execution_count": null,
   "metadata": {},
   "outputs": [
    {
     "data": {
      "text/markdown": [
       "---\n",
       "\n",
       "[source](https://github.com/yuval6957/reinautils/blob/main/reinautils/parameters.py#L33){target=\"_blank\" style=\"float:right; font-size:smaller\"}\n",
       "\n",
       "#### Parameters.add_attr\n",
       "\n",
       ">      Parameters.add_attr (**kargs)\n",
       "\n",
       "Add attributes to the Parameters class, this will be done recursivly"
      ],
      "text/plain": [
       "---\n",
       "\n",
       "[source](https://github.com/yuval6957/reinautils/blob/main/reinautils/parameters.py#L33){target=\"_blank\" style=\"float:right; font-size:smaller\"}\n",
       "\n",
       "#### Parameters.add_attr\n",
       "\n",
       ">      Parameters.add_attr (**kargs)\n",
       "\n",
       "Add attributes to the Parameters class, this will be done recursivly"
      ]
     },
     "execution_count": null,
     "metadata": {},
     "output_type": "execute_result"
    }
   ],
   "source": [
    "show_doc(Parameters.add_attr,title_level=4)"
   ]
  },
  {
   "cell_type": "code",
   "execution_count": null,
   "metadata": {},
   "outputs": [
    {
     "data": {
      "text/markdown": [
       "---\n",
       "\n",
       "[source](https://github.com/yuval6957/reinautils/blob/main/reinautils/parameters.py#L41){target=\"_blank\" style=\"float:right; font-size:smaller\"}\n",
       "\n",
       "#### Parameters.to_dict\n",
       "\n",
       ">      Parameters.to_dict ()\n",
       "\n",
       "Convert the parameters to dictionary recorsively"
      ],
      "text/plain": [
       "---\n",
       "\n",
       "[source](https://github.com/yuval6957/reinautils/blob/main/reinautils/parameters.py#L41){target=\"_blank\" style=\"float:right; font-size:smaller\"}\n",
       "\n",
       "#### Parameters.to_dict\n",
       "\n",
       ">      Parameters.to_dict ()\n",
       "\n",
       "Convert the parameters to dictionary recorsively"
      ]
     },
     "execution_count": null,
     "metadata": {},
     "output_type": "execute_result"
    }
   ],
   "source": [
    "show_doc(Parameters.to_dict,title_level=4)"
   ]
  },
  {
   "cell_type": "code",
   "execution_count": null,
   "metadata": {},
   "outputs": [
    {
     "data": {
      "text/markdown": [
       "---\n",
       "\n",
       "[source](https://github.com/yuval6957/reinautils/blob/main/reinautils/parameters.py#L57){target=\"_blank\" style=\"float:right; font-size:smaller\"}\n",
       "\n",
       "#### Parameters.from_json\n",
       "\n",
       ">      Parameters.from_json (json_file_name:str)\n",
       "\n",
       "Read json file and add to parameters"
      ],
      "text/plain": [
       "---\n",
       "\n",
       "[source](https://github.com/yuval6957/reinautils/blob/main/reinautils/parameters.py#L57){target=\"_blank\" style=\"float:right; font-size:smaller\"}\n",
       "\n",
       "#### Parameters.from_json\n",
       "\n",
       ">      Parameters.from_json (json_file_name:str)\n",
       "\n",
       "Read json file and add to parameters"
      ]
     },
     "execution_count": null,
     "metadata": {},
     "output_type": "execute_result"
    }
   ],
   "source": [
    "show_doc(Parameters.from_json,title_level=4)"
   ]
  },
  {
   "cell_type": "markdown",
   "metadata": {},
   "source": [
    "## Use cases"
   ]
  },
  {
   "cell_type": "markdown",
   "metadata": {},
   "source": [
    "We can instantiate a Parameter class and immediately add attributes "
   ]
  },
  {
   "cell_type": "code",
   "execution_count": null,
   "metadata": {},
   "outputs": [],
   "source": [
    "params=Parameters(first=1,second='A')\n",
    "assert (params.first==1) & (params.second=='A')"
   ]
  },
  {
   "cell_type": "markdown",
   "metadata": {},
   "source": [
    "Attributes can be added later"
   ]
  },
  {
   "cell_type": "code",
   "execution_count": null,
   "metadata": {},
   "outputs": [],
   "source": [
    "params.added = 'I am new'\n",
    "assert params['added'] == 'I am new'"
   ]
  },
  {
   "cell_type": "markdown",
   "metadata": {},
   "source": [
    "And they can also be added recursively "
   ]
  },
  {
   "cell_type": "code",
   "execution_count": null,
   "metadata": {},
   "outputs": [],
   "source": [
    "params.add_attr(file_name='test.ini', paths = {'path1':'hello_world', 'path2':'http2'})\n",
    "assert params.file_name == 'test.ini'\n",
    "assert params.paths.path2 == 'http2'"
   ]
  },
  {
   "cell_type": "markdown",
   "metadata": {},
   "source": [
    "You can see we can referance the attribute directly as in dict"
   ]
  },
  {
   "cell_type": "code",
   "execution_count": null,
   "metadata": {},
   "outputs": [],
   "source": [
    "assert params.paths.path1 == params['paths']['path1']\n",
    "params['stam'] = 'no'\n",
    "assert params.stam == 'no'\n",
    "assert params['paths'].path2 == 'http2'"
   ]
  },
  {
   "cell_type": "markdown",
   "metadata": {},
   "source": [
    "And can be deleted"
   ]
  },
  {
   "cell_type": "code",
   "execution_count": null,
   "metadata": {},
   "outputs": [],
   "source": [
    "del params['stam']\n",
    "assert not hasattr(params,'stam')"
   ]
  },
  {
   "cell_type": "markdown",
   "metadata": {},
   "source": [
    "The Parameters class can be printed and can be converted recursively to dict"
   ]
  },
  {
   "cell_type": "code",
   "execution_count": null,
   "metadata": {},
   "outputs": [
    {
     "name": "stdout",
     "output_type": "stream",
     "text": [
      "Parameters:\n",
      "   first : 1\n",
      "   second : A\n",
      "   added : I am new\n",
      "   file_name : test.ini\n",
      "   paths : Parameters:\n",
      "      path1 : hello_world\n",
      "      path2 : http2\n"
     ]
    }
   ],
   "source": [
    "print(params)"
   ]
  },
  {
   "cell_type": "code",
   "execution_count": null,
   "metadata": {},
   "outputs": [
    {
     "name": "stdout",
     "output_type": "stream",
     "text": [
      "{'first': 1, 'second': 'A', 'added': 'I am new', 'file_name': 'test.ini', 'paths': {'path1': 'hello_world', 'path2': 'http2'}}\n"
     ]
    }
   ],
   "source": [
    "print(params.to_dict())"
   ]
  },
  {
   "cell_type": "markdown",
   "metadata": {},
   "source": [
    "The parameters can also be populated using a json file"
   ]
  },
  {
   "cell_type": "code",
   "execution_count": null,
   "metadata": {},
   "outputs": [],
   "source": [
    "params2=Parameters().from_json('config_demo.json')"
   ]
  },
  {
   "cell_type": "code",
   "execution_count": null,
   "metadata": {},
   "outputs": [
    {
     "name": "stdout",
     "output_type": "stream",
     "text": [
      "Parameters:\n",
      "   path : Parameters:\n",
      "      data : /workspace/hd/\n",
      "      tmp : /workspace/hd/tmp/\n",
      "      features : /workspace/nvme/features/\n",
      "      train : /workspace/nvme/train/\n",
      "      models : /workspace/hd/models/\n",
      "      output : /workspace/hd/outputs/\n",
      "      test : /workspace/nvme/test/\n",
      "   platform : myserver\n"
     ]
    }
   ],
   "source": [
    "print(params2)"
   ]
  },
  {
   "cell_type": "code",
   "execution_count": null,
   "metadata": {},
   "outputs": [],
   "source": [
    "assert params2.platform == 'myserver'"
   ]
  },
  {
   "cell_type": "code",
   "execution_count": null,
   "metadata": {},
   "outputs": [],
   "source": [
    "#| hide\n",
    "import nbdev; nbdev.nbdev_export()"
   ]
  },
  {
   "cell_type": "code",
   "execution_count": null,
   "metadata": {},
   "outputs": [],
   "source": []
  }
 ],
 "metadata": {
  "kernelspec": {
   "display_name": "python3",
   "language": "python",
   "name": "python3"
  }
 },
 "nbformat": 4,
 "nbformat_minor": 4
}
